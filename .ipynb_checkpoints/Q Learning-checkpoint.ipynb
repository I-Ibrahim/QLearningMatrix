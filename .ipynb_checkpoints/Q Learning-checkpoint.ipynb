{
 "cells": [
  {
   "cell_type": "code",
   "execution_count": 5,
   "metadata": {
    "collapsed": true
   },
   "outputs": [],
   "source": [
    "import pandas as pd\n",
    "import numpy as np"
   ]
  },
  {
   "cell_type": "code",
   "execution_count": 185,
   "metadata": {
    "collapsed": false
   },
   "outputs": [],
   "source": [
    "# R matrix\n",
    "R = np.matrix([[-1, 0, -1, -1, -1, -1,-1, -1, -1, -1],\n",
    "            [0, -1, 0, -1, -1, -1,-1, -1, -1, -1],\n",
    "            [-1, 0, -1, 0, -1, 0, 0, -1, -1, -1],\n",
    "            [-1, -1, 0, -1, 0, -1,-1, -1, -1, -1],\n",
    "            [-1, -1, -1, 0, -1, -1,-1, -1, -1, -1],\n",
    "            [-1, -1, 0, -1, -1, -1,-1, -1, -1, 100],\n",
    "            [-1, -1, 0, -1, -1, -1,-1, 0, 0, -1],\n",
    "            [-1, -1, -1, -1, -1, -1,0, -1, -1, -1],\n",
    "            [-1, -1, -1, -1, -1, -1,0, -1, -1, 100],\n",
    "            [-1, -1, -1, -1, -1, 0,-1, -1, 0, -1]])\n",
    "\n",
    "# Q matrix\n",
    "Q = np.matrix(np.zeros([10,10]))\n",
    "\n",
    "# Parameters\n",
    "gamma=0.5\n",
    "alpha=0.1\n",
    "\n",
    "current_state=0"
   ]
  },
  {
   "cell_type": "code",
   "execution_count": 190,
   "metadata": {
    "collapsed": false
   },
   "outputs": [],
   "source": [
    "#Update Q\n",
    "def possibleA(state):\n",
    "    current_state_row=R[state,]\n",
    "    possible_action=np.where(current_state_row >=0)[1]\n",
    "    return possible_action\n",
    "\n",
    "\n",
    "available_action=possibleA(current_state)\n",
    "\n",
    "def takenA(possible_action_range):\n",
    "    taken_action=np.random.choice(available_action)\n",
    "    return taken_action\n",
    "\n",
    "action=takenA(available_action)\n",
    "\n",
    "def updateQ(current_state, action, gamma):\n",
    "    maxQ_index=np.where(Q[action,] == np.max(Q[action,]))[1]\n",
    "    \n",
    "    if maxQ_index.shape[0]>1:\n",
    "        maxQ_index=int(np.random.choice(maxQ_index, size=1))\n",
    "    else: \n",
    "        maxQ_index=int(maxQ_index)\n",
    "        \n",
    "    maxQ=Q[action, maxQ_index]\n",
    "\n",
    "    Q[current_state, action]=R[current_state, action]+gamma*maxQ\n",
    "    \n",
    "updateQ(current_state, action, gamma)\n",
    "\n",
    "\n",
    "for i in range(30000):\n",
    "    current_state=np.random.randint(0, int(Q.shape[0]))\n",
    "    available_action=possibleA(current_state)\n",
    "    action=takenA(available_action)\n",
    "    updateQ(current_state, action, gamma)"
   ]
  },
  {
   "cell_type": "code",
   "execution_count": null,
   "metadata": {
    "collapsed": false
   },
   "outputs": [],
   "source": []
  },
  {
   "cell_type": "code",
   "execution_count": 156,
   "metadata": {
    "collapsed": false
   },
   "outputs": [],
   "source": [
    "\n"
   ]
  }
 ],
 "metadata": {
  "anaconda-cloud": {},
  "kernelspec": {
   "display_name": "Python [default]",
   "language": "python",
   "name": "python3"
  },
  "language_info": {
   "codemirror_mode": {
    "name": "ipython",
    "version": 3
   },
   "file_extension": ".py",
   "mimetype": "text/x-python",
   "name": "python",
   "nbconvert_exporter": "python",
   "pygments_lexer": "ipython3",
   "version": "3.5.2"
  }
 },
 "nbformat": 4,
 "nbformat_minor": 1
}
